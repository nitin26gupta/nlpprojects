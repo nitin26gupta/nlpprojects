{
  "nbformat": 4,
  "nbformat_minor": 0,
  "metadata": {
    "accelerator": "GPU",
    "colab": {
      "name": "NLP_Week4_Exercise_Shakespeare_Answer.ipynb",
      "provenance": [],
      "toc_visible": true
    },
    "kernelspec": {
      "display_name": "Python 3",
      "name": "python3"
    }
  },
  "cells": [
    {
      "cell_type": "code",
      "metadata": {
        "id": "zX4Kg8DUTKWO",
        "colab_type": "code",
        "colab": {}
      },
      "source": [
        "#@title Licensed under the Apache License, Version 2.0 (the \"License\");\n",
        "# you may not use this file except in compliance with the License.\n",
        "# You may obtain a copy of the License at\n",
        "#\n",
        "# https://www.apache.org/licenses/LICENSE-2.0\n",
        "#\n",
        "# Unless required by applicable law or agreed to in writing, software\n",
        "# distributed under the License is distributed on an \"AS IS\" BASIS,\n",
        "# WITHOUT WARRANTIES OR CONDITIONS OF ANY KIND, either express or implied.\n",
        "# See the License for the specific language governing permissions and\n",
        "# limitations under the License."
      ],
      "execution_count": 0,
      "outputs": []
    },
    {
      "cell_type": "code",
      "metadata": {
        "colab_type": "code",
        "id": "BOwsuGQQY9OL",
        "colab": {}
      },
      "source": [
        "from tensorflow.keras.preprocessing.sequence import pad_sequences\n",
        "from tensorflow.keras.layers import Embedding, LSTM, Dense, Dropout, Bidirectional\n",
        "from tensorflow.keras.preprocessing.text import Tokenizer\n",
        "from tensorflow.keras.models import Sequential\n",
        "from tensorflow.keras.optimizers import Adam\n",
        "from tensorflow.keras import regularizers\n",
        "import tensorflow.keras.utils as ku \n",
        "import numpy as np "
      ],
      "execution_count": 0,
      "outputs": []
    },
    {
      "cell_type": "code",
      "metadata": {
        "colab_type": "code",
        "id": "PRnDnCW-Z7qv",
        "colab": {
          "base_uri": "https://localhost:8080/",
          "height": 204
        },
        "outputId": "506796f9-40cd-4a80-ae8f-8f29d856754a"
      },
      "source": [
        "tokenizer = Tokenizer()\n",
        "!wget --no-check-certificate \\\n",
        "    https://storage.googleapis.com/laurencemoroney-blog.appspot.com/sonnets.txt \\\n",
        "    -O /tmp/sonnets.txt\n",
        "data = open('/tmp/sonnets.txt').read()\n",
        "\n",
        "corpus = data.lower().split(\"\\n\")\n",
        "\n",
        "\n",
        "tokenizer.fit_on_texts(corpus)\n",
        "total_words = len(tokenizer.word_index) + 1\n",
        "\n",
        "# create input sequences using list of tokens\n",
        "input_sequences = []\n",
        "for line in corpus:\n",
        "\ttoken_list = tokenizer.texts_to_sequences([line])[0]\n",
        "\tfor i in range(1, len(token_list)):\n",
        "\t\tn_gram_sequence = token_list[:i+1]\n",
        "\t\tinput_sequences.append(n_gram_sequence)\n",
        "\n",
        "\n",
        "# pad sequences \n",
        "max_sequence_len = max([len(x) for x in input_sequences])\n",
        "input_sequences = np.array(pad_sequences(input_sequences, maxlen=max_sequence_len, padding='pre'))\n",
        "\n",
        "# create predictors and label\n",
        "predictors, label = input_sequences[:,:-1],input_sequences[:,-1]\n",
        "\n",
        "label = ku.to_categorical(label, num_classes=total_words)"
      ],
      "execution_count": 3,
      "outputs": [
        {
          "output_type": "stream",
          "text": [
            "--2020-04-07 02:58:53--  https://storage.googleapis.com/laurencemoroney-blog.appspot.com/sonnets.txt\n",
            "Resolving storage.googleapis.com (storage.googleapis.com)... 108.177.15.128, 2a00:1450:400c:c00::80\n",
            "Connecting to storage.googleapis.com (storage.googleapis.com)|108.177.15.128|:443... connected.\n",
            "HTTP request sent, awaiting response... 200 OK\n",
            "Length: 93578 (91K) [text/plain]\n",
            "Saving to: ‘/tmp/sonnets.txt’\n",
            "\n",
            "\r/tmp/sonnets.txt      0%[                    ]       0  --.-KB/s               \r/tmp/sonnets.txt    100%[===================>]  91.38K  --.-KB/s    in 0.001s  \n",
            "\n",
            "2020-04-07 02:58:53 (113 MB/s) - ‘/tmp/sonnets.txt’ saved [93578/93578]\n",
            "\n"
          ],
          "name": "stdout"
        }
      ]
    },
    {
      "cell_type": "code",
      "metadata": {
        "colab_type": "code",
        "id": "w9vH8Y59ajYL",
        "colab": {
          "base_uri": "https://localhost:8080/",
          "height": 374
        },
        "outputId": "a59f0685-15db-4406-bbe8-7babfa97fe93"
      },
      "source": [
        "model = Sequential()\n",
        "model.add(Embedding(total_words, 100, input_length=max_sequence_len-1))\n",
        "model.add(Bidirectional(LSTM(150, return_sequences = True)))\n",
        "model.add(Dropout(0.2))\n",
        "model.add(LSTM(100))\n",
        "model.add(Dense(total_words/2, activation='relu', kernel_regularizer=regularizers.l2(0.01)))\n",
        "model.add(Dense(total_words, activation='softmax'))\n",
        "model.compile(loss='categorical_crossentropy', optimizer='adam', metrics=['accuracy'])\n",
        "print(model.summary())\n"
      ],
      "execution_count": 4,
      "outputs": [
        {
          "output_type": "stream",
          "text": [
            "Model: \"sequential\"\n",
            "_________________________________________________________________\n",
            "Layer (type)                 Output Shape              Param #   \n",
            "=================================================================\n",
            "embedding (Embedding)        (None, 10, 100)           321100    \n",
            "_________________________________________________________________\n",
            "bidirectional (Bidirectional (None, 10, 300)           301200    \n",
            "_________________________________________________________________\n",
            "dropout (Dropout)            (None, 10, 300)           0         \n",
            "_________________________________________________________________\n",
            "lstm_1 (LSTM)                (None, 100)               160400    \n",
            "_________________________________________________________________\n",
            "dense (Dense)                (None, 1605)              162105    \n",
            "_________________________________________________________________\n",
            "dense_1 (Dense)              (None, 3211)              5156866   \n",
            "=================================================================\n",
            "Total params: 6,101,671\n",
            "Trainable params: 6,101,671\n",
            "Non-trainable params: 0\n",
            "_________________________________________________________________\n",
            "None\n"
          ],
          "name": "stdout"
        }
      ]
    },
    {
      "cell_type": "code",
      "metadata": {
        "colab_type": "code",
        "id": "AIg2f1HBxqof",
        "colab": {
          "base_uri": "https://localhost:8080/",
          "height": 1000
        },
        "outputId": "181d10c9-664a-4a9e-c83d-82f9991a94c5"
      },
      "source": [
        " history = model.fit(predictors, label, epochs=100, verbose=1)"
      ],
      "execution_count": 5,
      "outputs": [
        {
          "output_type": "stream",
          "text": [
            "Epoch 1/100\n",
            "484/484 [==============================] - 7s 14ms/step - loss: 6.9088 - accuracy: 0.0222\n",
            "Epoch 2/100\n",
            "484/484 [==============================] - 7s 15ms/step - loss: 6.5001 - accuracy: 0.0237\n",
            "Epoch 3/100\n",
            "484/484 [==============================] - 7s 15ms/step - loss: 6.3960 - accuracy: 0.0237\n",
            "Epoch 4/100\n",
            "484/484 [==============================] - 7s 15ms/step - loss: 6.2760 - accuracy: 0.0320\n",
            "Epoch 5/100\n",
            "484/484 [==============================] - 7s 15ms/step - loss: 6.1746 - accuracy: 0.0373\n",
            "Epoch 6/100\n",
            "484/484 [==============================] - 7s 15ms/step - loss: 6.0944 - accuracy: 0.0387\n",
            "Epoch 7/100\n",
            "484/484 [==============================] - 7s 15ms/step - loss: 6.0123 - accuracy: 0.0411\n",
            "Epoch 8/100\n",
            "484/484 [==============================] - 7s 15ms/step - loss: 5.9213 - accuracy: 0.0462\n",
            "Epoch 9/100\n",
            "484/484 [==============================] - 7s 15ms/step - loss: 5.8033 - accuracy: 0.0527\n",
            "Epoch 10/100\n",
            "484/484 [==============================] - 7s 15ms/step - loss: 5.6823 - accuracy: 0.0616\n",
            "Epoch 11/100\n",
            "484/484 [==============================] - 7s 15ms/step - loss: 5.5659 - accuracy: 0.0657\n",
            "Epoch 12/100\n",
            "484/484 [==============================] - 7s 15ms/step - loss: 5.4537 - accuracy: 0.0723\n",
            "Epoch 13/100\n",
            "484/484 [==============================] - 7s 15ms/step - loss: 5.3445 - accuracy: 0.0783\n",
            "Epoch 14/100\n",
            "484/484 [==============================] - 7s 15ms/step - loss: 5.2426 - accuracy: 0.0853\n",
            "Epoch 15/100\n",
            "484/484 [==============================] - 7s 15ms/step - loss: 5.1281 - accuracy: 0.0936\n",
            "Epoch 16/100\n",
            "484/484 [==============================] - 7s 15ms/step - loss: 5.0227 - accuracy: 0.0998\n",
            "Epoch 17/100\n",
            "484/484 [==============================] - 7s 15ms/step - loss: 4.9180 - accuracy: 0.1101\n",
            "Epoch 18/100\n",
            "484/484 [==============================] - 7s 15ms/step - loss: 4.8103 - accuracy: 0.1181\n",
            "Epoch 19/100\n",
            "484/484 [==============================] - 7s 15ms/step - loss: 4.6900 - accuracy: 0.1272\n",
            "Epoch 20/100\n",
            "484/484 [==============================] - 7s 15ms/step - loss: 4.5887 - accuracy: 0.1350\n",
            "Epoch 21/100\n",
            "484/484 [==============================] - 7s 15ms/step - loss: 4.4770 - accuracy: 0.1449\n",
            "Epoch 22/100\n",
            "484/484 [==============================] - 7s 15ms/step - loss: 4.3644 - accuracy: 0.1616\n",
            "Epoch 23/100\n",
            "484/484 [==============================] - 7s 14ms/step - loss: 4.2559 - accuracy: 0.1687\n",
            "Epoch 24/100\n",
            "484/484 [==============================] - 7s 15ms/step - loss: 4.1470 - accuracy: 0.1834\n",
            "Epoch 25/100\n",
            "484/484 [==============================] - 7s 15ms/step - loss: 4.0410 - accuracy: 0.2005\n",
            "Epoch 26/100\n",
            "484/484 [==============================] - 7s 15ms/step - loss: 3.9333 - accuracy: 0.2165\n",
            "Epoch 27/100\n",
            "484/484 [==============================] - 7s 15ms/step - loss: 3.8305 - accuracy: 0.2314\n",
            "Epoch 28/100\n",
            "484/484 [==============================] - 7s 15ms/step - loss: 3.7274 - accuracy: 0.2570\n",
            "Epoch 29/100\n",
            "484/484 [==============================] - 7s 15ms/step - loss: 3.6226 - accuracy: 0.2700\n",
            "Epoch 30/100\n",
            "484/484 [==============================] - 7s 15ms/step - loss: 3.5155 - accuracy: 0.2968\n",
            "Epoch 31/100\n",
            "484/484 [==============================] - 7s 15ms/step - loss: 3.4279 - accuracy: 0.3146\n",
            "Epoch 32/100\n",
            "484/484 [==============================] - 7s 15ms/step - loss: 3.3443 - accuracy: 0.3318\n",
            "Epoch 33/100\n",
            "484/484 [==============================] - 7s 15ms/step - loss: 3.2560 - accuracy: 0.3550\n",
            "Epoch 34/100\n",
            "484/484 [==============================] - 7s 15ms/step - loss: 3.1687 - accuracy: 0.3726\n",
            "Epoch 35/100\n",
            "484/484 [==============================] - 7s 15ms/step - loss: 3.0720 - accuracy: 0.3937\n",
            "Epoch 36/100\n",
            "484/484 [==============================] - 7s 15ms/step - loss: 3.0042 - accuracy: 0.4058\n",
            "Epoch 37/100\n",
            "484/484 [==============================] - 7s 15ms/step - loss: 2.9173 - accuracy: 0.4304\n",
            "Epoch 38/100\n",
            "484/484 [==============================] - 7s 15ms/step - loss: 2.8541 - accuracy: 0.4463\n",
            "Epoch 39/100\n",
            "484/484 [==============================] - 7s 15ms/step - loss: 2.7792 - accuracy: 0.4635\n",
            "Epoch 40/100\n",
            "484/484 [==============================] - 7s 15ms/step - loss: 2.7231 - accuracy: 0.4717\n",
            "Epoch 41/100\n",
            "484/484 [==============================] - 7s 15ms/step - loss: 2.6527 - accuracy: 0.4893\n",
            "Epoch 42/100\n",
            "484/484 [==============================] - 7s 15ms/step - loss: 2.5849 - accuracy: 0.5076\n",
            "Epoch 43/100\n",
            "484/484 [==============================] - 7s 15ms/step - loss: 2.5205 - accuracy: 0.5213\n",
            "Epoch 44/100\n",
            "484/484 [==============================] - 7s 15ms/step - loss: 2.4718 - accuracy: 0.5292\n",
            "Epoch 45/100\n",
            "484/484 [==============================] - 7s 15ms/step - loss: 2.4131 - accuracy: 0.5459\n",
            "Epoch 46/100\n",
            "484/484 [==============================] - 7s 15ms/step - loss: 2.3493 - accuracy: 0.5637\n",
            "Epoch 47/100\n",
            "484/484 [==============================] - 7s 15ms/step - loss: 2.3101 - accuracy: 0.5660\n",
            "Epoch 48/100\n",
            "484/484 [==============================] - 7s 15ms/step - loss: 2.2446 - accuracy: 0.5825\n",
            "Epoch 49/100\n",
            "484/484 [==============================] - 7s 15ms/step - loss: 2.2137 - accuracy: 0.5882\n",
            "Epoch 50/100\n",
            "484/484 [==============================] - 7s 15ms/step - loss: 2.1610 - accuracy: 0.6012\n",
            "Epoch 51/100\n",
            "484/484 [==============================] - 7s 15ms/step - loss: 2.1229 - accuracy: 0.6083\n",
            "Epoch 52/100\n",
            "484/484 [==============================] - 7s 15ms/step - loss: 2.0735 - accuracy: 0.6234\n",
            "Epoch 53/100\n",
            "484/484 [==============================] - 7s 15ms/step - loss: 2.0321 - accuracy: 0.6316\n",
            "Epoch 54/100\n",
            "484/484 [==============================] - 7s 15ms/step - loss: 1.9882 - accuracy: 0.6386\n",
            "Epoch 55/100\n",
            "484/484 [==============================] - 8s 16ms/step - loss: 1.9553 - accuracy: 0.6484\n",
            "Epoch 56/100\n",
            "484/484 [==============================] - 7s 15ms/step - loss: 1.9281 - accuracy: 0.6529\n",
            "Epoch 57/100\n",
            "484/484 [==============================] - 7s 15ms/step - loss: 1.8884 - accuracy: 0.6631\n",
            "Epoch 58/100\n",
            "484/484 [==============================] - 7s 15ms/step - loss: 1.8464 - accuracy: 0.6701\n",
            "Epoch 59/100\n",
            "484/484 [==============================] - 7s 15ms/step - loss: 1.8112 - accuracy: 0.6771\n",
            "Epoch 60/100\n",
            "484/484 [==============================] - 7s 15ms/step - loss: 1.7842 - accuracy: 0.6804\n",
            "Epoch 61/100\n",
            "484/484 [==============================] - 7s 15ms/step - loss: 1.7561 - accuracy: 0.6868\n",
            "Epoch 62/100\n",
            "484/484 [==============================] - 7s 15ms/step - loss: 1.7268 - accuracy: 0.6941\n",
            "Epoch 63/100\n",
            "484/484 [==============================] - 7s 15ms/step - loss: 1.7003 - accuracy: 0.6987\n",
            "Epoch 64/100\n",
            "484/484 [==============================] - 7s 15ms/step - loss: 1.6672 - accuracy: 0.7044\n",
            "Epoch 65/100\n",
            "484/484 [==============================] - 7s 15ms/step - loss: 1.6367 - accuracy: 0.7141\n",
            "Epoch 66/100\n",
            "484/484 [==============================] - 7s 15ms/step - loss: 1.6179 - accuracy: 0.7158\n",
            "Epoch 67/100\n",
            "484/484 [==============================] - 7s 15ms/step - loss: 1.6020 - accuracy: 0.7181\n",
            "Epoch 68/100\n",
            "484/484 [==============================] - 7s 15ms/step - loss: 1.5723 - accuracy: 0.7243\n",
            "Epoch 69/100\n",
            "484/484 [==============================] - 7s 15ms/step - loss: 1.5374 - accuracy: 0.7352\n",
            "Epoch 70/100\n",
            "484/484 [==============================] - 7s 15ms/step - loss: 1.5235 - accuracy: 0.7340\n",
            "Epoch 71/100\n",
            "484/484 [==============================] - 7s 15ms/step - loss: 1.5177 - accuracy: 0.7333\n",
            "Epoch 72/100\n",
            "484/484 [==============================] - 7s 15ms/step - loss: 1.4960 - accuracy: 0.7386\n",
            "Epoch 73/100\n",
            "484/484 [==============================] - 7s 15ms/step - loss: 1.4533 - accuracy: 0.7498\n",
            "Epoch 74/100\n",
            "484/484 [==============================] - 7s 15ms/step - loss: 1.4395 - accuracy: 0.7508\n",
            "Epoch 75/100\n",
            "484/484 [==============================] - 7s 15ms/step - loss: 1.4249 - accuracy: 0.7520\n",
            "Epoch 76/100\n",
            "484/484 [==============================] - 7s 15ms/step - loss: 1.4159 - accuracy: 0.7504\n",
            "Epoch 77/100\n",
            "484/484 [==============================] - 7s 15ms/step - loss: 1.3833 - accuracy: 0.7592\n",
            "Epoch 78/100\n",
            "484/484 [==============================] - 7s 15ms/step - loss: 1.3678 - accuracy: 0.7607\n",
            "Epoch 79/100\n",
            "484/484 [==============================] - 7s 15ms/step - loss: 1.3610 - accuracy: 0.7633\n",
            "Epoch 80/100\n",
            "484/484 [==============================] - 7s 15ms/step - loss: 1.3504 - accuracy: 0.7637\n",
            "Epoch 81/100\n",
            "484/484 [==============================] - 7s 15ms/step - loss: 1.3179 - accuracy: 0.7694\n",
            "Epoch 82/100\n",
            "484/484 [==============================] - 7s 15ms/step - loss: 1.3009 - accuracy: 0.7741\n",
            "Epoch 83/100\n",
            "484/484 [==============================] - 7s 15ms/step - loss: 1.2957 - accuracy: 0.7733\n",
            "Epoch 84/100\n",
            "484/484 [==============================] - 7s 15ms/step - loss: 1.2827 - accuracy: 0.7762\n",
            "Epoch 85/100\n",
            "484/484 [==============================] - 7s 15ms/step - loss: 1.2699 - accuracy: 0.7761\n",
            "Epoch 86/100\n",
            "484/484 [==============================] - 7s 15ms/step - loss: 1.2529 - accuracy: 0.7837\n",
            "Epoch 87/100\n",
            "484/484 [==============================] - 7s 15ms/step - loss: 1.2374 - accuracy: 0.7846\n",
            "Epoch 88/100\n",
            "484/484 [==============================] - 7s 15ms/step - loss: 1.2284 - accuracy: 0.7844\n",
            "Epoch 89/100\n",
            "484/484 [==============================] - 7s 15ms/step - loss: 1.2369 - accuracy: 0.7822\n",
            "Epoch 90/100\n",
            "484/484 [==============================] - 7s 15ms/step - loss: 1.2040 - accuracy: 0.7873\n",
            "Epoch 91/100\n",
            "484/484 [==============================] - 7s 15ms/step - loss: 1.1956 - accuracy: 0.7913\n",
            "Epoch 92/100\n",
            "484/484 [==============================] - 7s 15ms/step - loss: 1.1811 - accuracy: 0.7947\n",
            "Epoch 93/100\n",
            "484/484 [==============================] - 7s 15ms/step - loss: 1.1674 - accuracy: 0.7963\n",
            "Epoch 94/100\n",
            "484/484 [==============================] - 7s 15ms/step - loss: 1.1528 - accuracy: 0.7989\n",
            "Epoch 95/100\n",
            "484/484 [==============================] - 7s 15ms/step - loss: 1.1522 - accuracy: 0.7972\n",
            "Epoch 96/100\n",
            "484/484 [==============================] - 7s 15ms/step - loss: 1.1515 - accuracy: 0.7979\n",
            "Epoch 97/100\n",
            "484/484 [==============================] - 7s 15ms/step - loss: 1.1370 - accuracy: 0.8003\n",
            "Epoch 98/100\n",
            "484/484 [==============================] - 8s 16ms/step - loss: 1.1230 - accuracy: 0.8037\n",
            "Epoch 99/100\n",
            "484/484 [==============================] - 7s 15ms/step - loss: 1.1131 - accuracy: 0.8051\n",
            "Epoch 100/100\n",
            "484/484 [==============================] - 7s 15ms/step - loss: 1.1111 - accuracy: 0.8040\n"
          ],
          "name": "stdout"
        }
      ]
    },
    {
      "cell_type": "code",
      "metadata": {
        "colab_type": "code",
        "id": "1fXTEO3GJ282",
        "colab": {
          "base_uri": "https://localhost:8080/",
          "height": 545
        },
        "outputId": "1c18574e-dd9f-4101-8bec-1bfc6d300f8c"
      },
      "source": [
        "import matplotlib.pyplot as plt\n",
        "acc = history.history['accuracy']\n",
        "loss = history.history['loss']\n",
        "\n",
        "epochs = range(len(acc))\n",
        "\n",
        "plt.plot(epochs, acc, 'b', label='Training accuracy')\n",
        "plt.title('Training accuracy')\n",
        "\n",
        "plt.figure()\n",
        "\n",
        "plt.plot(epochs, loss, 'b', label='Training Loss')\n",
        "plt.title('Training loss')\n",
        "plt.legend()\n",
        "\n",
        "plt.show()"
      ],
      "execution_count": 6,
      "outputs": [
        {
          "output_type": "display_data",
          "data": {
            "image/png": "[encoded data removed]",
            "text/plain": [
              "<Figure size 432x288 with 1 Axes>"
            ]
          },
          "metadata": {
            "tags": []
          }
        },
        {
          "output_type": "display_data",
          "data": {
            "image/png": "[encoded data removed]",
            "text/plain": [
              "<Figure size 432x288 with 1 Axes>"
            ]
          },
          "metadata": {
            "tags": []
          }
        }
      ]
    },
    {
      "cell_type": "code",
      "metadata": {
        "colab_type": "code",
        "id": "6Vc6PHgxa6Hm",
        "colab": {
          "base_uri": "https://localhost:8080/",
          "height": 105
        },
        "outputId": "f44cfd6e-9148-4b13-90d9-22c75c12cb1e"
      },
      "source": [
        "seed_text = \"Help me Obi Wan Kenobi, you're my only hope\"\n",
        "next_words = 100\n",
        "  \n",
        "for _ in range(next_words):\n",
        "\ttoken_list = tokenizer.texts_to_sequences([seed_text])[0]\n",
        "\ttoken_list = pad_sequences([token_list], maxlen=max_sequence_len-1, padding='pre')\n",
        "\tpredicted = model.predict_classes(token_list, verbose=0)\n",
        "\toutput_word = \"\"\n",
        "\tfor word, index in tokenizer.word_index.items():\n",
        "\t\tif index == predicted:\n",
        "\t\t\toutput_word = word\n",
        "\t\t\tbreak\n",
        "\tseed_text += \" \" + output_word\n",
        "print(seed_text)"
      ],
      "execution_count": 7,
      "outputs": [
        {
          "output_type": "stream",
          "text": [
            "WARNING:tensorflow:From <ipython-input-7-622d307fa19a>:7: Sequential.predict_classes (from tensorflow.python.keras.engine.sequential) is deprecated and will be removed after 2021-01-01.\n",
            "Instructions for updating:\n",
            "Please use instead:* `np.argmax(model.predict(x), axis=-1)`,   if your model does multi-class classification   (e.g. if it uses a `softmax` last-layer activation).* `(model.predict(x) > 0.5).astype(\"int32\")`,   if your model does binary classification   (e.g. if it uses a `sigmoid` last-layer activation).\n",
            "Help me Obi Wan Kenobi, you're my only hope doth make the state new rare rare rare rare spent must say doth grew much bright remain prove away sun single hence hate back away well grow remains remains lies delight under affords delight prove locked loss are light light rare lend youth well lend men told you sun well tell old abundance some wantonness acquainted cancell'd woe state self brow remain prove hate aside ' lies shine away control thee alone you tend lend thee eyes untrue shine 'will ' seem eye lies shine away thy view go survey rare rare set name alone set days ' confound remains\n"
          ],
          "name": "stdout"
        }
      ]
    },
    {
      "cell_type": "code",
      "metadata": {
        "id": "TUujO1FplAjM",
        "colab_type": "code",
        "colab": {}
      },
      "source": [
        ""
      ],
      "execution_count": 0,
      "outputs": []
    }
  ]
}