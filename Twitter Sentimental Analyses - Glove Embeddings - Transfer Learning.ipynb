{
  "nbformat": 4,
  "nbformat_minor": 0,
  "metadata": {
    "accelerator": "GPU",
    "colab": {
      "name": "NLP Course - Week 3 Exercise Answer.ipynb",
      "provenance": [],
      "toc_visible": true
    },
    "kernelspec": {
      "display_name": "Python 3",
      "name": "python3"
    }
  },
  "cells": [
    {
      "cell_type": "code",
      "metadata": {
        "colab_type": "code",
        "id": "hmA6EzkQJ5jt",
        "colab": {}
      },
      "source": [
        "import json\n",
        "import tensorflow as tf\n",
        "import csv\n",
        "import random\n",
        "import numpy as np\n",
        "\n",
        "from tensorflow.keras.preprocessing.text import Tokenizer\n",
        "from tensorflow.keras.preprocessing.sequence import pad_sequences\n",
        "from tensorflow.keras.utils import to_categorical\n",
        "from tensorflow.keras import regularizers\n",
        "\n",
        "\n",
        "embedding_dim = 100\n",
        "max_length = 16\n",
        "trunc_type='post'\n",
        "padding_type='post'\n",
        "oov_tok = \"<OOV>\"\n",
        "training_size=160000\n",
        "test_portion=.1\n",
        "\n",
        "corpus = []"
      ],
      "execution_count": 0,
      "outputs": []
    },
    {
      "cell_type": "code",
      "metadata": {
        "colab_type": "code",
        "id": "bM0l_dORKqE0",
        "outputId": "e5352717-8694-4292-d240-8596920b02d3",
        "colab": {
          "base_uri": "https://localhost:8080/",
          "height": 204
        }
      },
      "source": [
        "# Note that I cleaned the Stanford dataset to remove LATIN1 encoding to make it easier for Python CSV reader\n",
        "# You can do that yourself with:\n",
        "# iconv -f LATIN1 -t UTF8 training.1600000.processed.noemoticon.csv -o training_cleaned.csv\n",
        "# I then hosted it on my site to make it easier to use in this notebook\n",
        "\n",
        "!wget --no-check-certificate \\\n",
        "    https://storage.googleapis.com/laurencemoroney-blog.appspot.com/training_cleaned.csv \\\n",
        "    -O /tmp/training_cleaned.csv\n",
        "\n",
        "num_sentences = 0\n",
        "\n",
        "with open(\"/tmp/training_cleaned.csv\") as csvfile:\n",
        "    reader = csv.reader(csvfile, delimiter=',')\n",
        "    for row in reader:\n",
        "        list_item=[]\n",
        "        list_item.append(row[5])\n",
        "        this_label=row[0]\n",
        "        if this_label=='0':\n",
        "            list_item.append(0)\n",
        "        else:\n",
        "            list_item.append(1)\n",
        "        num_sentences = num_sentences + 1\n",
        "        corpus.append(list_item)\n"
      ],
      "execution_count": 2,
      "outputs": [
        {
          "output_type": "stream",
          "text": [
            "--2020-04-06 13:33:26--  https://storage.googleapis.com/laurencemoroney-blog.appspot.com/training_cleaned.csv\n",
            "Resolving storage.googleapis.com (storage.googleapis.com)... 74.125.204.128, 2404:6800:4008:c00::80\n",
            "Connecting to storage.googleapis.com (storage.googleapis.com)|74.125.204.128|:443... connected.\n",
            "HTTP request sent, awaiting response... 200 OK\n",
            "Length: 238942690 (228M) [application/octet-stream]\n",
            "Saving to: ‘/tmp/training_cleaned.csv’\n",
            "\n",
            "/tmp/training_clean 100%[===================>] 227.87M   180MB/s    in 1.3s    \n",
            "\n",
            "2020-04-06 13:33:28 (180 MB/s) - ‘/tmp/training_cleaned.csv’ saved [238942690/238942690]\n",
            "\n"
          ],
          "name": "stdout"
        }
      ]
    },
    {
      "cell_type": "code",
      "metadata": {
        "colab_type": "code",
        "id": "3kxblBUjEUX-",
        "outputId": "d081fd46-57e4-451b-982b-4e8afb18ab2b",
        "colab": {
          "base_uri": "https://localhost:8080/",
          "height": 68
        }
      },
      "source": [
        "print(num_sentences)\n",
        "print(len(corpus))\n",
        "print(corpus[1])\n",
        "\n",
        "# Expected Output:\n",
        "# 1600000\n",
        "# 1600000\n",
        "# [\"is upset that he can't update his Facebook by texting it... and might cry as a result  School today also. Blah!\", 0]"
      ],
      "execution_count": 3,
      "outputs": [
        {
          "output_type": "stream",
          "text": [
            "1600000\n",
            "1600000\n",
            "[\"is upset that he can't update his Facebook by texting it... and might cry as a result  School today also. Blah!\", 0]\n"
          ],
          "name": "stdout"
        }
      ]
    },
    {
      "cell_type": "code",
      "metadata": {
        "colab_type": "code",
        "id": "ohOGz24lsNAD",
        "colab": {}
      },
      "source": [
        "sentences=[]\n",
        "labels=[]\n",
        "random.shuffle(corpus)\n",
        "for x in range(training_size):\n",
        "    sentences.append(corpus[x][0])\n",
        "    labels.append(corpus[x][1])\n",
        "\n",
        "\n",
        "tokenizer = Tokenizer()\n",
        "tokenizer.fit_on_texts(sentences)\n",
        "\n",
        "word_index = tokenizer.word_index\n",
        "vocab_size=len(word_index)\n",
        "\n",
        "sequences = tokenizer.texts_to_sequences(sentences)\n",
        "padded = pad_sequences(sequences, maxlen=max_length, padding=padding_type, truncating=trunc_type)\n",
        "\n",
        "split = int(test_portion * training_size)\n",
        "\n",
        "test_sequences = padded[0:split]\n",
        "training_sequences = padded[split:training_size]\n",
        "test_labels = labels[0:split]\n",
        "training_labels = labels[split:training_size]"
      ],
      "execution_count": 0,
      "outputs": []
    },
    {
      "cell_type": "code",
      "metadata": {
        "colab_type": "code",
        "id": "gIrtRem1En3N",
        "outputId": "2da62fef-9d50-4850-82b8-b7dad1a56677",
        "colab": {
          "base_uri": "https://localhost:8080/",
          "height": 51
        }
      },
      "source": [
        "print(vocab_size)\n",
        "print(word_index['i'])\n",
        "# Expected Output\n",
        "# 138858\n",
        "# 1"
      ],
      "execution_count": 5,
      "outputs": [
        {
          "output_type": "stream",
          "text": [
            "138940\n",
            "1\n"
          ],
          "name": "stdout"
        }
      ]
    },
    {
      "cell_type": "code",
      "metadata": {
        "colab_type": "code",
        "id": "C1zdgJkusRh0",
        "outputId": "6707e3c1-e372-4bb1-b77d-e7d8f0536f7e",
        "colab": {
          "base_uri": "https://localhost:8080/",
          "height": 204
        }
      },
      "source": [
        "# Note this is the 100 dimension version of GloVe from Stanford\n",
        "# I unzipped and hosted it on my site to make this notebook easier\n",
        "!wget --no-check-certificate \\\n",
        "    https://storage.googleapis.com/laurencemoroney-blog.appspot.com/glove.6B.100d.txt \\\n",
        "    -O /tmp/glove.6B.100d.txt\n",
        "embeddings_index = {};\n",
        "with open('/tmp/glove.6B.100d.txt') as f:\n",
        "    for line in f:\n",
        "        values = line.split();\n",
        "        word = values[0];\n",
        "        coefs = np.asarray(values[1:], dtype='float32');\n",
        "        embeddings_index[word] = coefs;\n",
        "\n",
        "embeddings_matrix = np.zeros((vocab_size+1, embedding_dim));\n",
        "for word, i in word_index.items():\n",
        "    embedding_vector = embeddings_index.get(word);\n",
        "    if embedding_vector is not None:\n",
        "        embeddings_matrix[i] = embedding_vector;"
      ],
      "execution_count": 6,
      "outputs": [
        {
          "output_type": "stream",
          "text": [
            "--2020-04-06 13:36:51--  https://storage.googleapis.com/laurencemoroney-blog.appspot.com/glove.6B.100d.txt\n",
            "Resolving storage.googleapis.com (storage.googleapis.com)... 74.125.203.128, 2404:6800:4008:c07::80\n",
            "Connecting to storage.googleapis.com (storage.googleapis.com)|74.125.203.128|:443... connected.\n",
            "HTTP request sent, awaiting response... 200 OK\n",
            "Length: 347116733 (331M) [text/plain]\n",
            "Saving to: ‘/tmp/glove.6B.100d.txt’\n",
            "\n",
            "/tmp/glove.6B.100d. 100%[===================>] 331.04M   171MB/s    in 1.9s    \n",
            "\n",
            "2020-04-06 13:36:53 (171 MB/s) - ‘/tmp/glove.6B.100d.txt’ saved [347116733/347116733]\n",
            "\n"
          ],
          "name": "stdout"
        }
      ]
    },
    {
      "cell_type": "code",
      "metadata": {
        "colab_type": "code",
        "id": "71NLk_lpFLNt",
        "outputId": "5aa58a11-4538-446a-9d60-90681c7d37d8",
        "colab": {
          "base_uri": "https://localhost:8080/",
          "height": 34
        }
      },
      "source": [
        "print(len(embeddings_matrix))\n",
        "# Expected Output\n",
        "# 138859"
      ],
      "execution_count": 7,
      "outputs": [
        {
          "output_type": "stream",
          "text": [
            "138941\n"
          ],
          "name": "stdout"
        }
      ]
    },
    {
      "cell_type": "code",
      "metadata": {
        "id": "EWh0Og7Bu9SD",
        "colab_type": "code",
        "colab": {
          "base_uri": "https://localhost:8080/",
          "height": 34
        },
        "outputId": "fd95b832-abc3-416a-85f3-1008d4af7143"
      },
      "source": [
        "test_sequences.shape"
      ],
      "execution_count": 12,
      "outputs": [
        {
          "output_type": "execute_result",
          "data": {
            "text/plain": [
              "(16000, 16)"
            ]
          },
          "metadata": {
            "tags": []
          },
          "execution_count": 12
        }
      ]
    },
    {
      "cell_type": "code",
      "metadata": {
        "id": "26SyEBD2vRnU",
        "colab_type": "code",
        "colab": {
          "base_uri": "https://localhost:8080/",
          "height": 34
        },
        "outputId": "2d1bfd5e-f386-4158-ba56-9d2ae1712185"
      },
      "source": [
        "test_sequences.shape"
      ],
      "execution_count": 18,
      "outputs": [
        {
          "output_type": "execute_result",
          "data": {
            "text/plain": [
              "(16000, 16)"
            ]
          },
          "metadata": {
            "tags": []
          },
          "execution_count": 18
        }
      ]
    },
    {
      "cell_type": "code",
      "metadata": {
        "id": "hr9I-5RWv1Ay",
        "colab_type": "code",
        "colab": {}
      },
      "source": [
        "from array import array"
      ],
      "execution_count": 0,
      "outputs": []
    },
    {
      "cell_type": "code",
      "metadata": {
        "id": "S8WOfoi1vEM1",
        "colab_type": "code",
        "colab": {}
      },
      "source": [
        "training_labels = np.array(training_labels)"
      ],
      "execution_count": 0,
      "outputs": []
    },
    {
      "cell_type": "code",
      "metadata": {
        "id": "f9Pn7I_-v6iR",
        "colab_type": "code",
        "colab": {
          "base_uri": "https://localhost:8080/",
          "height": 34
        },
        "outputId": "1cde2077-2300-42b1-f543-a05a91137053"
      },
      "source": [
        "training_labels.shape"
      ],
      "execution_count": 23,
      "outputs": [
        {
          "output_type": "execute_result",
          "data": {
            "text/plain": [
              "(144000,)"
            ]
          },
          "metadata": {
            "tags": []
          },
          "execution_count": 23
        }
      ]
    },
    {
      "cell_type": "code",
      "metadata": {
        "id": "MZgZKuJ5vU4w",
        "colab_type": "code",
        "colab": {}
      },
      "source": [
        "test_labels = np.array(test_labels)"
      ],
      "execution_count": 0,
      "outputs": []
    },
    {
      "cell_type": "code",
      "metadata": {
        "id": "W0plVAelwdWA",
        "colab_type": "code",
        "colab": {
          "base_uri": "https://localhost:8080/",
          "height": 34
        },
        "outputId": "e0e1de7e-4043-4f1f-951c-dabf0451fdc9"
      },
      "source": [
        "test_labels.shape"
      ],
      "execution_count": 25,
      "outputs": [
        {
          "output_type": "execute_result",
          "data": {
            "text/plain": [
              "(16000,)"
            ]
          },
          "metadata": {
            "tags": []
          },
          "execution_count": 25
        }
      ]
    },
    {
      "cell_type": "code",
      "metadata": {
        "colab_type": "code",
        "id": "iKKvbuEBOGFz",
        "colab": {
          "base_uri": "https://localhost:8080/",
          "height": 1000
        },
        "outputId": "1c329328-624f-41d0-8d27-95c9e76793cb"
      },
      "source": [
        "model = tf.keras.Sequential([\n",
        "    tf.keras.layers.Embedding(vocab_size+1, embedding_dim, input_length=max_length, weights=[embeddings_matrix], trainable=False),\n",
        "    tf.keras.layers.Dropout(0.2),\n",
        "    tf.keras.layers.Conv1D(64, 5, activation='relu'),\n",
        "    tf.keras.layers.MaxPooling1D(pool_size=4),\n",
        "    tf.keras.layers.LSTM(64),\n",
        "    tf.keras.layers.Dense(1, activation='sigmoid')\n",
        "])\n",
        "\n",
        "model.compile(loss='binary_crossentropy',optimizer='adam',metrics=['accuracy'])\n",
        "model.summary()\n",
        "\n",
        "num_epochs = 50\n",
        "history = model.fit(training_sequences, training_labels, epochs=num_epochs, validation_data=(test_sequences, test_labels), verbose=2)\n",
        "\n",
        "print(\"Training Complete\")"
      ],
      "execution_count": 26,
      "outputs": [
        {
          "output_type": "stream",
          "text": [
            "Model: \"sequential_2\"\n",
            "_________________________________________________________________\n",
            "Layer (type)                 Output Shape              Param #   \n",
            "=================================================================\n",
            "embedding_2 (Embedding)      (None, 16, 100)           13894100  \n",
            "_________________________________________________________________\n",
            "dropout_2 (Dropout)          (None, 16, 100)           0         \n",
            "_________________________________________________________________\n",
            "conv1d_2 (Conv1D)            (None, 12, 64)            32064     \n",
            "_________________________________________________________________\n",
            "max_pooling1d_2 (MaxPooling1 (None, 3, 64)             0         \n",
            "_________________________________________________________________\n",
            "lstm_2 (LSTM)                (None, 64)                33024     \n",
            "_________________________________________________________________\n",
            "dense_2 (Dense)              (None, 1)                 65        \n",
            "=================================================================\n",
            "Total params: 13,959,253\n",
            "Trainable params: 65,153\n",
            "Non-trainable params: 13,894,100\n",
            "_________________________________________________________________\n",
            "Epoch 1/50\n",
            "4500/4500 - 21s - loss: 0.5680 - accuracy: 0.6985 - val_loss: 0.5327 - val_accuracy: 0.7339\n",
            "Epoch 2/50\n",
            "4500/4500 - 20s - loss: 0.5265 - accuracy: 0.7324 - val_loss: 0.5178 - val_accuracy: 0.7422\n",
            "Epoch 3/50\n",
            "4500/4500 - 20s - loss: 0.5095 - accuracy: 0.7442 - val_loss: 0.5138 - val_accuracy: 0.7436\n",
            "Epoch 4/50\n",
            "4500/4500 - 20s - loss: 0.4994 - accuracy: 0.7510 - val_loss: 0.5000 - val_accuracy: 0.7574\n",
            "Epoch 5/50\n",
            "4500/4500 - 21s - loss: 0.4901 - accuracy: 0.7570 - val_loss: 0.4962 - val_accuracy: 0.7523\n",
            "Epoch 6/50\n",
            "4500/4500 - 20s - loss: 0.4822 - accuracy: 0.7634 - val_loss: 0.4977 - val_accuracy: 0.7534\n",
            "Epoch 7/50\n",
            "4500/4500 - 20s - loss: 0.4767 - accuracy: 0.7662 - val_loss: 0.5061 - val_accuracy: 0.7516\n",
            "Epoch 8/50\n",
            "4500/4500 - 20s - loss: 0.4704 - accuracy: 0.7703 - val_loss: 0.5007 - val_accuracy: 0.7536\n",
            "Epoch 9/50\n",
            "4500/4500 - 21s - loss: 0.4667 - accuracy: 0.7721 - val_loss: 0.4982 - val_accuracy: 0.7583\n",
            "Epoch 10/50\n",
            "4500/4500 - 20s - loss: 0.4622 - accuracy: 0.7741 - val_loss: 0.4960 - val_accuracy: 0.7555\n",
            "Epoch 11/50\n",
            "4500/4500 - 20s - loss: 0.4599 - accuracy: 0.7770 - val_loss: 0.5009 - val_accuracy: 0.7561\n",
            "Epoch 12/50\n",
            "4500/4500 - 20s - loss: 0.4567 - accuracy: 0.7782 - val_loss: 0.4990 - val_accuracy: 0.7559\n",
            "Epoch 13/50\n",
            "4500/4500 - 20s - loss: 0.4537 - accuracy: 0.7804 - val_loss: 0.4991 - val_accuracy: 0.7527\n",
            "Epoch 14/50\n",
            "4500/4500 - 20s - loss: 0.4516 - accuracy: 0.7816 - val_loss: 0.5007 - val_accuracy: 0.7539\n",
            "Epoch 15/50\n",
            "4500/4500 - 20s - loss: 0.4506 - accuracy: 0.7829 - val_loss: 0.4990 - val_accuracy: 0.7563\n",
            "Epoch 16/50\n",
            "4500/4500 - 20s - loss: 0.4473 - accuracy: 0.7843 - val_loss: 0.5038 - val_accuracy: 0.7527\n",
            "Epoch 17/50\n",
            "4500/4500 - 20s - loss: 0.4453 - accuracy: 0.7850 - val_loss: 0.5050 - val_accuracy: 0.7558\n",
            "Epoch 18/50\n",
            "4500/4500 - 20s - loss: 0.4445 - accuracy: 0.7856 - val_loss: 0.5038 - val_accuracy: 0.7545\n",
            "Epoch 19/50\n",
            "4500/4500 - 20s - loss: 0.4410 - accuracy: 0.7875 - val_loss: 0.5071 - val_accuracy: 0.7538\n",
            "Epoch 20/50\n",
            "4500/4500 - 21s - loss: 0.4404 - accuracy: 0.7877 - val_loss: 0.5065 - val_accuracy: 0.7538\n",
            "Epoch 21/50\n",
            "4500/4500 - 20s - loss: 0.4403 - accuracy: 0.7877 - val_loss: 0.5064 - val_accuracy: 0.7519\n",
            "Epoch 22/50\n",
            "4500/4500 - 20s - loss: 0.4374 - accuracy: 0.7903 - val_loss: 0.5093 - val_accuracy: 0.7536\n",
            "Epoch 23/50\n",
            "4500/4500 - 20s - loss: 0.4375 - accuracy: 0.7903 - val_loss: 0.5098 - val_accuracy: 0.7569\n",
            "Epoch 24/50\n",
            "4500/4500 - 20s - loss: 0.4380 - accuracy: 0.7891 - val_loss: 0.5085 - val_accuracy: 0.7544\n",
            "Epoch 25/50\n",
            "4500/4500 - 20s - loss: 0.4356 - accuracy: 0.7902 - val_loss: 0.5156 - val_accuracy: 0.7569\n",
            "Epoch 26/50\n",
            "4500/4500 - 20s - loss: 0.4356 - accuracy: 0.7906 - val_loss: 0.5093 - val_accuracy: 0.7546\n",
            "Epoch 27/50\n",
            "4500/4500 - 20s - loss: 0.4347 - accuracy: 0.7906 - val_loss: 0.5158 - val_accuracy: 0.7532\n",
            "Epoch 28/50\n",
            "4500/4500 - 20s - loss: 0.4332 - accuracy: 0.7930 - val_loss: 0.5156 - val_accuracy: 0.7534\n",
            "Epoch 29/50\n",
            "4500/4500 - 20s - loss: 0.4337 - accuracy: 0.7925 - val_loss: 0.5188 - val_accuracy: 0.7483\n",
            "Epoch 30/50\n",
            "4500/4500 - 20s - loss: 0.4316 - accuracy: 0.7936 - val_loss: 0.5187 - val_accuracy: 0.7518\n",
            "Epoch 31/50\n",
            "4500/4500 - 20s - loss: 0.4307 - accuracy: 0.7934 - val_loss: 0.5127 - val_accuracy: 0.7538\n",
            "Epoch 32/50\n",
            "4500/4500 - 20s - loss: 0.4317 - accuracy: 0.7943 - val_loss: 0.5209 - val_accuracy: 0.7523\n",
            "Epoch 33/50\n",
            "4500/4500 - 20s - loss: 0.4308 - accuracy: 0.7929 - val_loss: 0.5164 - val_accuracy: 0.7544\n",
            "Epoch 34/50\n",
            "4500/4500 - 20s - loss: 0.4302 - accuracy: 0.7940 - val_loss: 0.5197 - val_accuracy: 0.7516\n",
            "Epoch 35/50\n",
            "4500/4500 - 21s - loss: 0.4298 - accuracy: 0.7946 - val_loss: 0.5131 - val_accuracy: 0.7550\n",
            "Epoch 36/50\n",
            "4500/4500 - 21s - loss: 0.4289 - accuracy: 0.7956 - val_loss: 0.5130 - val_accuracy: 0.7493\n",
            "Epoch 37/50\n",
            "4500/4500 - 20s - loss: 0.4275 - accuracy: 0.7951 - val_loss: 0.5170 - val_accuracy: 0.7524\n",
            "Epoch 38/50\n",
            "4500/4500 - 20s - loss: 0.4284 - accuracy: 0.7964 - val_loss: 0.5122 - val_accuracy: 0.7504\n",
            "Epoch 39/50\n",
            "4500/4500 - 21s - loss: 0.4270 - accuracy: 0.7969 - val_loss: 0.5159 - val_accuracy: 0.7506\n",
            "Epoch 40/50\n",
            "4500/4500 - 20s - loss: 0.4284 - accuracy: 0.7955 - val_loss: 0.5173 - val_accuracy: 0.7556\n",
            "Epoch 41/50\n",
            "4500/4500 - 20s - loss: 0.4261 - accuracy: 0.7969 - val_loss: 0.5135 - val_accuracy: 0.7524\n",
            "Epoch 42/50\n",
            "4500/4500 - 20s - loss: 0.4261 - accuracy: 0.7971 - val_loss: 0.5141 - val_accuracy: 0.7538\n",
            "Epoch 43/50\n",
            "4500/4500 - 20s - loss: 0.4275 - accuracy: 0.7955 - val_loss: 0.5209 - val_accuracy: 0.7547\n",
            "Epoch 44/50\n",
            "4500/4500 - 20s - loss: 0.4259 - accuracy: 0.7969 - val_loss: 0.5163 - val_accuracy: 0.7521\n",
            "Epoch 45/50\n",
            "4500/4500 - 20s - loss: 0.4270 - accuracy: 0.7965 - val_loss: 0.5224 - val_accuracy: 0.7515\n",
            "Epoch 46/50\n",
            "4500/4500 - 20s - loss: 0.4261 - accuracy: 0.7972 - val_loss: 0.5168 - val_accuracy: 0.7494\n",
            "Epoch 47/50\n",
            "4500/4500 - 20s - loss: 0.4249 - accuracy: 0.7981 - val_loss: 0.5195 - val_accuracy: 0.7541\n",
            "Epoch 48/50\n",
            "4500/4500 - 20s - loss: 0.4249 - accuracy: 0.7969 - val_loss: 0.5162 - val_accuracy: 0.7500\n",
            "Epoch 49/50\n",
            "4500/4500 - 20s - loss: 0.4245 - accuracy: 0.7967 - val_loss: 0.5173 - val_accuracy: 0.7492\n",
            "Epoch 50/50\n",
            "4500/4500 - 20s - loss: 0.4247 - accuracy: 0.7975 - val_loss: 0.5165 - val_accuracy: 0.7529\n",
            "Training Complete\n"
          ],
          "name": "stdout"
        }
      ]
    },
    {
      "cell_type": "code",
      "metadata": {
        "colab_type": "code",
        "id": "qxju4ItJKO8F",
        "colab": {
          "base_uri": "https://localhost:8080/",
          "height": 607
        },
        "outputId": "ba000d5d-6dd5-4d84-dd99-c7c8bbe25fc2"
      },
      "source": [
        "import matplotlib.image  as mpimg\n",
        "import matplotlib.pyplot as plt\n",
        "\n",
        "#-----------------------------------------------------------\n",
        "# Retrieve a list of list results on training and test data\n",
        "# sets for each training epoch\n",
        "#-----------------------------------------------------------\n",
        "acc=history.history['accuracy']\n",
        "val_acc=history.history['val_accuracy']\n",
        "loss=history.history['loss']\n",
        "val_loss=history.history['val_loss']\n",
        "\n",
        "epochs=range(len(acc)) # Get number of epochs\n",
        "\n",
        "#------------------------------------------------\n",
        "# Plot training and validation accuracy per epoch\n",
        "#------------------------------------------------\n",
        "plt.plot(epochs, acc, 'r')\n",
        "plt.plot(epochs, val_acc, 'b')\n",
        "plt.title('Training and validation accuracy')\n",
        "plt.xlabel(\"Epochs\")\n",
        "plt.ylabel(\"Accuracy\")\n",
        "plt.legend([\"Accuracy\", \"Validation Accuracy\"])\n",
        "\n",
        "plt.figure()\n",
        "\n",
        "#------------------------------------------------\n",
        "# Plot training and validation loss per epoch\n",
        "#------------------------------------------------\n",
        "plt.plot(epochs, loss, 'r')\n",
        "plt.plot(epochs, val_loss, 'b')\n",
        "plt.title('Training and validation loss')\n",
        "plt.xlabel(\"Epochs\")\n",
        "plt.ylabel(\"Loss\")\n",
        "plt.legend([\"Loss\", \"Validation Loss\"])\n",
        "\n",
        "plt.figure()\n",
        "\n",
        "\n",
        "# Expected Output\n",
        "# A chart where the validation loss does not increase sharply!"
      ],
      "execution_count": 27,
      "outputs": [
        {
          "output_type": "execute_result",
          "data": {
            "text/plain": [
              "<Figure size 432x288 with 0 Axes>"
            ]
          },
          "metadata": {
            "tags": []
          },
          "execution_count": 27
        },
        {
          "output_type": "display_data",
          "data": {
            "image/png": "[encoded data removed]",
            "text/plain": [
              "<Figure size 432x288 with 1 Axes>"
            ]
          },
          "metadata": {
            "tags": []
          }
        },
        {
          "output_type": "display_data",
          "data": {
            "image/png": "[encoded data removed]",
            "text/plain": [
              "<Figure size 432x288 with 1 Axes>"
            ]
          },
          "metadata": {
            "tags": []
          }
        },
        {
          "output_type": "display_data",
          "data": {
            "text/plain": [
              "<Figure size 432x288 with 0 Axes>"
            ]
          },
          "metadata": {
            "tags": []
          }
        }
      ]
    },
    {
      "cell_type": "code",
      "metadata": {
        "id": "if4eyFnR0xlr",
        "colab_type": "code",
        "colab": {}
      },
      "source": [
        ""
      ],
      "execution_count": 0,
      "outputs": []
    }
  ]
}